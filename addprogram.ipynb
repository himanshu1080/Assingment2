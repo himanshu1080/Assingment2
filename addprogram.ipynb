{
  "nbformat": 4,
  "nbformat_minor": 0,
  "metadata": {
    "colab": {
      "name": "addprogram.ipynb",
      "provenance": [],
      "authorship_tag": "ABX9TyMDct8i0MKQ48tOQZfdBo/I",
      "include_colab_link": true
    },
    "kernelspec": {
      "name": "python3",
      "display_name": "Python 3"
    }
  },
  "cells": [
    {
      "cell_type": "markdown",
      "metadata": {
        "id": "view-in-github",
        "colab_type": "text"
      },
      "source": [
        "<a href=\"https://colab.research.google.com/github/himanshu1080/Assingment2/blob/master/addprogram.ipynb\" target=\"_parent\"><img src=\"https://colab.research.google.com/assets/colab-badge.svg\" alt=\"Open In Colab\"/></a>"
      ]
    },
    {
      "cell_type": "code",
      "metadata": {
        "id": "avHiqw9usNMn",
        "colab_type": "code",
        "colab": {
          "base_uri": "https://localhost:8080/",
          "height": 67
        },
        "outputId": "95b96640-8235-4969-a1e7-32ee93be4088"
      },
      "source": [
        "a = int(input(\"enter first number: \"))\n",
        "b = int(input(\"enter second number: \"))\n",
        "sum = a + b\n",
        "print(\"sum:\", sum)"
      ],
      "execution_count": 1,
      "outputs": [
        {
          "output_type": "stream",
          "text": [
            "enter first number: 1\n",
            "enter second number: 2\n",
            "sum: 3\n"
          ],
          "name": "stdout"
        }
      ]
    }
  ]
}